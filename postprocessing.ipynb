{
 "cells": [
  {
   "cell_type": "markdown",
   "metadata": {},
   "source": [
    "|앞말|끝말|\n",
    "|:---|:---|\n",
    "|도와주|세요|\n",
    "|힘내|\n",
    "|누구|\n",
    "|안녕하|\n",
    "|안녕히계|\n",
    "|조심히가|\n",
    "|죄송|합니다|\n",
    "|감사|\n",
    "|좋아|요|\n",
    "|싫어|\n",
    "\n",
    "## 단어의 코드\n",
    "\n",
    "|모음|단어|코드|\n",
    "|:---|:---|:---|\n",
    "|ㅏ|하 가 사 아 다|00|\n",
    "|ㅏㄴ|안|01|\n",
    "|ㅏㅁ,ㅂ|감, 합|02|\n",
    "|ㅓㅕ|녕 어|03|\n",
    "|ㅗㅛ|도 조 송 좋 요|04| \n",
    "|ㅜㅠ|주 누 구|05|\n",
    "|ㅣ|히 싫 니|06|\n",
    "|ㅣㅁ|힘 심|07|\n",
    "|ㅐㅔㅖ|내 계 세|08|\n",
    "|ㅘ|와|09|\n",
    "|ㅚ|죄|10|"
   ]
  },
  {
   "cell_type": "markdown",
   "metadata": {},
   "source": [
    "## String 별 유사도 확인"
   ]
  },
  {
   "cell_type": "code",
   "execution_count": 24,
   "metadata": {},
   "outputs": [
    {
     "name": "stdout",
     "output_type": "stream",
     "text": [
      "0.5 0.0\n"
     ]
    }
   ],
   "source": [
    "from difflib import SequenceMatcher\n",
    "str1 = '오와우'\n",
    "str2 = '오와우애이'\n",
    "\n",
    "#str3 = '오와아애이'\n",
    "#str2 = '오아우'\n",
    "str3 = '임애'\n",
    "str4 = '오'\n",
    "ratio = SequenceMatcher(None, str1, str4).ratio()\n",
    "ratio1 = SequenceMatcher(None, str3, str4).ratio()\n",
    "print(ratio, ratio1)"
   ]
  },
  {
   "cell_type": "code",
   "execution_count": 11,
   "metadata": {},
   "outputs": [],
   "source": [
    "str_list =['오와우애오',\n",
    "'임애',\n",
    "'임애애오',\n",
    "'임애오',\n",
    "'우우',\n",
    "'우우애오',\n",
    "'안어아애오',\n",
    "'안어',\n",
    "'안어이아애오',\n",
    "'안어이애애오',\n",
    "'오임이아애오',\n",
    "'오임이아',\n",
    "'외오',\n",
    "'외오암이아',\n",
    "'외오애오',\n",
    "'암아',\n",
    "'암아암이아',\n",
    "'암아애오',\n",
    "'오아',\n",
    "'오아오',\n",
    "'오아암이아',\n",
    "'이어',\n",
    "'이어오',\n",
    "'이어암이아']"
   ]
  },
  {
   "cell_type": "code",
   "execution_count": 12,
   "metadata": {},
   "outputs": [],
   "source": [
    "answer_list = ['도와주세요',\n",
    "               '힘내',\n",
    "               '힘내세요', '힘내요',\n",
    "               '누구', '누구세요', '안녕하세요', '안녕',\n",
    "               '안녕히가세요','안녕히계세요','조심히가세요','조심히가','죄송','죄송합니다','죄송해요','감사','감사합니다',\n",
    "               '감사해요','좋아','좋아요','좋아합니다','싫어','싫어요','싫어합니다'\n",
    "]"
   ]
  },
  {
   "cell_type": "code",
   "execution_count": 13,
   "metadata": {},
   "outputs": [
    {
     "data": {
      "text/plain": [
       "(24, 24)"
      ]
     },
     "execution_count": 13,
     "metadata": {},
     "output_type": "execute_result"
    }
   ],
   "source": [
    "len(str_list), len(answer_list)"
   ]
  },
  {
   "cell_type": "code",
   "execution_count": 15,
   "metadata": {},
   "outputs": [],
   "source": [
    "def clustering(str,list1, list2):\n",
    "    score = []\n",
    "    for i in range(len(str_list)):\n",
    "        ratio = SequenceMatcher(None, str, list1[i]).ratio()\n",
    "        score.append(ratio)\n",
    "    index = score.index(max(score))\n",
    "    return list2[index]"
   ]
  },
  {
   "cell_type": "code",
   "execution_count": 16,
   "metadata": {},
   "outputs": [
    {
     "data": {
      "text/plain": [
       "'감사합니다'"
      ]
     },
     "execution_count": 16,
     "metadata": {},
     "output_type": "execute_result"
    }
   ],
   "source": [
    "str = '암아임이아'\n",
    "clustering(str, str_list, answer_list)"
   ]
  },
  {
   "cell_type": "code",
   "execution_count": 17,
   "metadata": {},
   "outputs": [
    {
     "data": {
      "text/plain": [
       "'감사합니다'"
      ]
     },
     "execution_count": 17,
     "metadata": {},
     "output_type": "execute_result"
    }
   ],
   "source": [
    "str = '암아암아'\n",
    "clustering(str, str_list, answer_list)"
   ]
  },
  {
   "cell_type": "code",
   "execution_count": 18,
   "metadata": {},
   "outputs": [
    {
     "data": {
      "text/plain": [
       "'감사'"
      ]
     },
     "execution_count": 18,
     "metadata": {},
     "output_type": "execute_result"
    }
   ],
   "source": [
    "str = '암아암'\n",
    "clustering(str, str_list, answer_list)"
   ]
  },
  {
   "cell_type": "code",
   "execution_count": 21,
   "metadata": {},
   "outputs": [
    {
     "data": {
      "text/plain": [
       "'도와주세요'"
      ]
     },
     "execution_count": 21,
     "metadata": {},
     "output_type": "execute_result"
    }
   ],
   "source": [
    "str = '오오애오'\n",
    "clustering(str, str_list, answer_list)"
   ]
  },
  {
   "cell_type": "code",
   "execution_count": 22,
   "metadata": {},
   "outputs": [
    {
     "data": {
      "text/plain": [
       "'좋아요'"
      ]
     },
     "execution_count": 22,
     "metadata": {},
     "output_type": "execute_result"
    }
   ],
   "source": [
    "str = '오오'\n",
    "clustering(str, str_list, answer_list)"
   ]
  },
  {
   "cell_type": "code",
   "execution_count": null,
   "metadata": {},
   "outputs": [],
   "source": []
  }
 ],
 "metadata": {
  "kernelspec": {
   "display_name": "Lip",
   "language": "python",
   "name": "lip"
  },
  "language_info": {
   "codemirror_mode": {
    "name": "ipython",
    "version": 3
   },
   "file_extension": ".py",
   "mimetype": "text/x-python",
   "name": "python",
   "nbconvert_exporter": "python",
   "pygments_lexer": "ipython3",
   "version": "3.8.5"
  }
 },
 "nbformat": 4,
 "nbformat_minor": 4
}
