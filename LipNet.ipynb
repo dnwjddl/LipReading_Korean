{
 "cells": [
  {
   "cell_type": "code",
   "execution_count": 1,
   "metadata": {},
   "outputs": [],
   "source": [
    "from keras.layers.convolutional import Conv3D, ZeroPadding3D\n",
    "from keras.layers.pooling import MaxPooling3D\n",
    "from keras.layers.core import Dense, Activation, Dropout, Flatten\n",
    "from keras.layers.wrappers import Bidirectional, TimeDistributed\n",
    "from keras.layers.recurrent import GRU\n",
    "from keras.layers import Input\n",
    "from keras.models import Model\n",
    "#from lipnet.core.layers import CTC\n",
    "from keras import backend as K"
   ]
  },
  {
   "cell_type": "code",
   "execution_count": 2,
   "metadata": {},
   "outputs": [],
   "source": [
    "from keras.layers.core import Lambda\n",
    "from keras import backend as K\n",
    "\n",
    "# Actual loss calculation\n",
    "def ctc_lambda_func(args):\n",
    "    y_pred, labels, input_length, label_length = args\n",
    "    # From Keras example image_ocr.py:\n",
    "    # the 2 is critical here since the first couple outputs of the RNN\n",
    "    # tend to be garbage:\n",
    "    # y_pred = y_pred[:, 2:, :]\n",
    "    y_pred = y_pred[:, :, :]\n",
    "    return K.ctc_batch_cost(labels, y_pred, input_length, label_length)\n",
    "\n",
    "def CTC(name, args):\n",
    "    return Lambda(ctc_lambda_func, output_shape=(1,), name=name)(args)"
   ]
  },
  {
   "cell_type": "code",
   "execution_count": 23,
   "metadata": {
    "scrolled": true
   },
   "outputs": [
    {
     "name": "stdout",
     "output_type": "stream",
     "text": [
      "(None, 10, 64, 64, 3)\n",
      "(None, 12, 68, 68, 3)\n",
      "(None, 10, 32, 32, 32)\n",
      "(None, 10, 16, 16, 32)\n",
      "(None, 10, 16, 16, 32)\n",
      "=====================================================\n",
      "(None, 12, 20, 20, 32)\n",
      "(None, 10, 16, 16, 64)\n",
      "(None, 10, 8, 8, 64)\n",
      "(None, 10, 8, 8, 64)\n",
      "=====================================================\n",
      "(None, 12, 10, 10, 64)\n",
      "(None, 10, 8, 8, 96)\n",
      "(None, 10, 4, 4, 96)\n",
      "(None, 10, 4, 4, 96)\n",
      "=====================================================\n",
      "(None, 10, 1536)\n",
      "(None, 10, 1536)\n"
     ]
    }
   ],
   "source": [
    "#input_shape = (3, 10, 64, 64)\n",
    "input_shape = (10, 64, 64, 3)\n",
    "x = Input(name = 'the_input', shape = input_shape, dtype = 'float32')\n",
    "print(x.shape)\n",
    "x = ZeroPadding3D(padding = (1,2,2), name = 'zero1')(x)\n",
    "print(x.shape)\n",
    "x = Conv3D(32, (3,5,5), strides = (1,2,2), activation = 'relu', kernel_initializer = 'he_normal', name = 'conv1')(x)\n",
    "print(x.shape)\n",
    "x = MaxPooling3D(pool_size=(1, 2, 2), strides=(1, 2, 2), name='max1')(x)\n",
    "print(x.shape)\n",
    "x = Dropout(0.5)(x)\n",
    "print(x.shape)\n",
    "print(\"=====================================================\")\n",
    "x = ZeroPadding3D(padding=(1, 2, 2), name='zero2')(x)\n",
    "print(x.shape)\n",
    "x = Conv3D(64, (3, 5, 5), strides=(1, 1, 1), activation='relu', kernel_initializer='he_normal', name='conv2')(x)\n",
    "print(x.shape)\n",
    "x = MaxPooling3D(pool_size=(1, 2, 2), strides=(1, 2, 2), name='max2')(x)\n",
    "print(x.shape)\n",
    "x = Dropout(0.5)(x)\n",
    "print(x.shape)\n",
    "print(\"=====================================================\")\n",
    "x = ZeroPadding3D(padding=(1, 1, 1), name='zero3')(x)\n",
    "print(x.shape)\n",
    "x = Conv3D(96, (3, 3, 3), strides=(1, 1, 1), activation='relu', kernel_initializer='he_normal', name='conv3')(x)\n",
    "print(x.shape)\n",
    "x = MaxPooling3D(pool_size=(1, 2, 2), strides=(1, 2, 2), name='max3')(x)\n",
    "print(x.shape)\n",
    "x = Dropout(0.5)(x)\n",
    "print(x.shape)\n",
    "print(\"=====================================================\")\n",
    "x = TimeDistributed(Flatten())(x)\n",
    "print(x.shape)\n",
    "\n",
    "y_pred = Activation('softmax', name='softmax')(x)\n",
    "print(y_pred.shape)"
   ]
  },
  {
   "cell_type": "code",
   "execution_count": 17,
   "metadata": {},
   "outputs": [],
   "source": [
    "class LipNet(object):\n",
    "    def __init__(self):\n",
    "        self.img_c = img_c\n",
    "        self.img_w = img_w\n",
    "        self.img_h = img_h\n",
    "        self.frames_n = frames_n\n",
    "        \n",
    "        self.output_size = output_size\n",
    "        self.build()\n",
    "        \n",
    "    def build(self):\n",
    "        input_shape = (self.frames_n, self.img_w, self.img_h, self.img_c)\n",
    "        #if K.image_data_format() == 'channels_first':\n",
    "            #input_shape = (self.img_c, self.frames_n, self.img_w, self.img_h)\n",
    "        #else:\n",
    "            #input_shape = (self.frames_n, self.img_w, self.img_h, self.img_c)\n",
    "        \n",
    "        self.input_data = Input(name = 'the_input', shape = input_shape, dtype = 'float32')\n",
    "        self.zero1 = ZeroPadding3D(padding = (1,2,2), name = 'zero1')(self.input_data)\n",
    "        self.conv1 = Conv3D(32, (3,5,5), strides = (1,2,2), activation = 'relu', kernel_initializer = 'he_normal', name = 'conv1')(self.zero1)\n",
    "        self.maxp1 = MaxPooling3D(pool_size=(1, 2, 2), strides=(1, 2, 2), name='max1')(self.conv1)\n",
    "        self.drop1 = Dropout(0.5)(self.maxp1)\n",
    "\n",
    "        self.zero2 = ZeroPadding3D(padding=(1, 2, 2), name='zero2')(self.drop1)\n",
    "        self.conv2 = Conv3D(64, (3, 5, 5), strides=(1, 1, 1), activation='relu', kernel_initializer='he_normal', name='conv2')(self.zero2)\n",
    "        self.maxp2 = MaxPooling3D(pool_size=(1, 2, 2), strides=(1, 2, 2), name='max2')(self.conv2)\n",
    "        self.drop2 = Dropout(0.5)(self.maxp2)\n",
    "\n",
    "        self.zero3 = ZeroPadding3D(padding=(1, 1, 1), name='zero3')(self.drop2)\n",
    "        self.conv3 = Conv3D(96, (3, 3, 3), strides=(1, 1, 1), activation='relu', kernel_initializer='he_normal', name='conv3')(self.zero3)\n",
    "        self.maxp3 = MaxPooling3D(pool_size=(1, 2, 2), strides=(1, 2, 2), name='max3')(self.conv3)\n",
    "        self.drop3 = Dropout(0.5)(self.maxp3)\n",
    "\n",
    "        self.resh1 = TimeDistributed(Flatten())(self.drop3)\n",
    "\n",
    "        self.gru_1 = Bidirectional(GRU(256, return_sequences=True, kernel_initializer='Orthogonal', name='gru1'), merge_mode='concat')(self.resh1)\n",
    "        self.gru_2 = Bidirectional(GRU(256, return_sequences=True, kernel_initializer='Orthogonal', name='gru2'), merge_mode='concat')(self.gru_1)\n",
    "\n",
    "        # transforms RNN output to character activations:\n",
    "        self.dense1 = Dense(self.output_size, kernel_initializer='he_normal', name='dense1')(self.gru_2)\n",
    "\n",
    "        self.y_pred = Activation('softmax', name='softmax')(self.dense1)\n",
    "        \n",
    "        self.labels = Input(name = 'the_labels', shape = [self.absolute_max_len], dtype = 'float32')\n",
    "        self.input_length = Input(name = 'input_length', shape = [1], dtype = 'int64')\n",
    "        self.label_length = Input(name = 'label_length', shape = [1], dtype = 'int64')\n",
    "        \n",
    "        self.loss_out = CTC('ctc', [self.y_pred, self.labels, self.input_length, sef.label_length], outputs=self.loss_out)"
   ]
  },
  {
   "cell_type": "code",
   "execution_count": 18,
   "metadata": {},
   "outputs": [],
   "source": [
    "labels = Input(name = 'the_labels', shape = [40], dtype = 'float32')\n",
    "input_length = Input(name = 'input_length', shape = [1], dtype = 'int64')\n",
    "label_length = Input(name = 'label_length', shape = [1], dtype = 'int64')"
   ]
  },
  {
   "cell_type": "code",
   "execution_count": 19,
   "metadata": {},
   "outputs": [
    {
     "data": {
      "text/plain": [
       "TensorShape([None, 40])"
      ]
     },
     "execution_count": 19,
     "metadata": {},
     "output_type": "execute_result"
    }
   ],
   "source": [
    "labels.shape"
   ]
  },
  {
   "cell_type": "code",
   "execution_count": 20,
   "metadata": {},
   "outputs": [
    {
     "data": {
      "text/plain": [
       "TensorShape([None, 1])"
      ]
     },
     "execution_count": 20,
     "metadata": {},
     "output_type": "execute_result"
    }
   ],
   "source": [
    "input_length.shape"
   ]
  },
  {
   "cell_type": "code",
   "execution_count": 21,
   "metadata": {},
   "outputs": [
    {
     "data": {
      "text/plain": [
       "TensorShape([None, 1])"
      ]
     },
     "execution_count": 21,
     "metadata": {},
     "output_type": "execute_result"
    }
   ],
   "source": [
    "label_length.shape"
   ]
  },
  {
   "cell_type": "code",
   "execution_count": 25,
   "metadata": {},
   "outputs": [],
   "source": [
    "loss = CTC('ctc', [y_pred, labels, input_length, label_length])"
   ]
  },
  {
   "cell_type": "code",
   "execution_count": 26,
   "metadata": {},
   "outputs": [
    {
     "data": {
      "text/plain": [
       "TensorShape([None, 1])"
      ]
     },
     "execution_count": 26,
     "metadata": {},
     "output_type": "execute_result"
    }
   ],
   "source": [
    "loss.shape"
   ]
  },
  {
   "cell_type": "code",
   "execution_count": null,
   "metadata": {},
   "outputs": [],
   "source": []
  }
 ],
 "metadata": {
  "kernelspec": {
   "display_name": "JolpJJang",
   "language": "python",
   "name": "jolpjjang"
  },
  "language_info": {
   "codemirror_mode": {
    "name": "ipython",
    "version": 3
   },
   "file_extension": ".py",
   "mimetype": "text/x-python",
   "name": "python",
   "nbconvert_exporter": "python",
   "pygments_lexer": "ipython3",
   "version": "3.8.8"
  }
 },
 "nbformat": 4,
 "nbformat_minor": 4
}
