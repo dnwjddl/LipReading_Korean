{
 "cells": [
  {
   "cell_type": "markdown",
   "metadata": {},
   "source": [
    "## 데이터셋 전처리(crop)\n",
    "- 입술 주변을 Detect 후 100x50 pixel crop"
   ]
  },
  {
   "cell_type": "markdown",
   "metadata": {},
   "source": [
    "## 확인해야 될 것\n",
    "- 입술이 제대로 crop이 되었는지 확인\n",
    "    - 입술 윗쪽이 잘렸거나 제대로 crop이 안되어있을시 다시 ```촬영```\n",
    "    - 입이 너무 크게 보여서 잘려서 나온다면 얼굴을 뒤로 하고 다시 ```촬영```\n",
    "    - 입술이 너무 작게 보이더라도 다시 ```촬영```\n",
    "- 제대로 말을 했는지 확인\n",
    "    - 입을 다물면서 늦게 시작해서 제대로 말하는게 안보인다면 다시 ```촬영```"
   ]
  },
  {
   "cell_type": "code",
   "execution_count": 2,
   "metadata": {},
   "outputs": [],
   "source": [
    "def shape_to_np(shape, dtype=\"int\"):\n",
    "    # initialize the list of (x, y)-coordinates\n",
    "    coords = np.zeros((20, 2), dtype=dtype)\n",
    "    # for only lip landmarks\n",
    "    n = 0\n",
    "    for i in range(48, shape.num_parts):\n",
    "        coords[n] = (shape.part(i).x, shape.part(i).y)\n",
    "        n += 1\n",
    "\n",
    "    # return the list of (x, y)-coordinates\n",
    "    return coords"
   ]
  },
  {
   "cell_type": "code",
   "execution_count": 3,
   "metadata": {},
   "outputs": [
    {
     "name": "stdout",
     "output_type": "stream",
     "text": [
      "korea_data/00/00/00/image/img_0.jpg\n",
      "korea_data/00/00/00/image/img_1.jpg\n",
      "korea_data/00/00/00/image/img_2.jpg\n",
      "korea_data/00/00/00/image/img_3.jpg\n",
      "korea_data/00/00/00/image/img_4.jpg\n",
      "korea_data/00/00/01/image/img_0.jpg\n",
      "korea_data/00/00/01/image/img_1.jpg\n",
      "korea_data/00/00/01/image/img_2.jpg\n",
      "korea_data/00/00/01/image/img_3.jpg\n",
      "korea_data/00/00/01/image/img_4.jpg\n",
      "korea_data/00/00/02/image/img_0.jpg\n",
      "korea_data/00/00/02/image/img_1.jpg\n",
      "korea_data/00/00/02/image/img_2.jpg\n",
      "korea_data/00/00/02/image/img_3.jpg\n",
      "korea_data/00/00/02/image/img_4.jpg\n",
      "korea_data/00/01/00/image/img_0.jpg\n",
      "korea_data/00/01/00/image/img_1.jpg\n",
      "korea_data/00/01/00/image/img_2.jpg\n",
      "korea_data/00/01/00/image/img_3.jpg\n",
      "korea_data/00/01/00/image/img_4.jpg\n",
      "korea_data/00/01/01/image/img_0.jpg\n",
      "korea_data/00/01/01/image/img_1.jpg\n"
     ]
    },
    {
     "ename": "KeyboardInterrupt",
     "evalue": "",
     "output_type": "error",
     "traceback": [
      "\u001b[1;31m---------------------------------------------------------------------------\u001b[0m",
      "\u001b[1;31mKeyboardInterrupt\u001b[0m                         Traceback (most recent call last)",
      "\u001b[1;32m<ipython-input-3-710a07580c13>\u001b[0m in \u001b[0;36m<module>\u001b[1;34m\u001b[0m\n\u001b[0;32m     46\u001b[0m                 \u001b[0mcv2\u001b[0m\u001b[1;33m.\u001b[0m\u001b[0mimshow\u001b[0m\u001b[1;33m(\u001b[0m\u001b[1;34m\"src\"\u001b[0m\u001b[1;33m,\u001b[0m \u001b[0msrc\u001b[0m\u001b[1;33m)\u001b[0m\u001b[1;33m\u001b[0m\u001b[1;33m\u001b[0m\u001b[0m\n\u001b[0;32m     47\u001b[0m                 \u001b[0mcv2\u001b[0m\u001b[1;33m.\u001b[0m\u001b[0mimshow\u001b[0m\u001b[1;33m(\u001b[0m\u001b[1;34m\"dst\"\u001b[0m\u001b[1;33m,\u001b[0m \u001b[0mdst\u001b[0m\u001b[1;33m)\u001b[0m\u001b[1;33m\u001b[0m\u001b[1;33m\u001b[0m\u001b[0m\n\u001b[1;32m---> 48\u001b[1;33m                 \u001b[0mcv2\u001b[0m\u001b[1;33m.\u001b[0m\u001b[0mwaitKey\u001b[0m\u001b[1;33m(\u001b[0m\u001b[1;33m)\u001b[0m\u001b[1;33m\u001b[0m\u001b[1;33m\u001b[0m\u001b[0m\n\u001b[0m\u001b[0;32m     49\u001b[0m                 \u001b[0mcv2\u001b[0m\u001b[1;33m.\u001b[0m\u001b[0mdestroyAllWindows\u001b[0m\u001b[1;33m(\u001b[0m\u001b[1;33m)\u001b[0m\u001b[1;33m\u001b[0m\u001b[1;33m\u001b[0m\u001b[0m\n",
      "\u001b[1;31mKeyboardInterrupt\u001b[0m: "
     ]
    }
   ],
   "source": [
    "## Dataset crop Demo\n",
    "from keras.preprocessing import image\n",
    "import cv2\n",
    "import os\n",
    "import pandas as pd\n",
    "import dlib\n",
    "import numpy as np\n",
    "\n",
    "detector = dlib.get_frontal_face_detector()\n",
    "predictor = dlib.shape_predictor(\"shape_predictor_68_face_landmarks.dat\") # predict 해주는애            \n",
    "\n",
    "########\n",
    "# 해당 파이썬 파일과 koread_data의 파일이 같은 파일내에 있도록 설정해두었으니\n",
    "# 맞지 않는다면 `data_dir` 수정!\n",
    "########\n",
    "\n",
    "data_dir = 'korea_data'\n",
    "data_per = os.listdir(data_dir)\n",
    "for person in data_per:\n",
    "    for sentence in os.listdir(f'{data_dir}/{person}' ):\n",
    "\n",
    "        if sentence == 'csv' or sentence == 'video' or sentence == '.DS_Store':\n",
    "            continue\n",
    "        for nums in os.listdir(f'{data_dir}/{person}/{sentence}'):\n",
    "            if nums == '.DS_Store':\n",
    "                continue\n",
    "            n = 0\n",
    "            for jpg in os.listdir(f'{data_dir}/{person}/{sentence}/{nums}/image'):\n",
    "                # 3초 안으로\n",
    "                if int(jpg[4]) > 4:\n",
    "                    break\n",
    "                faces = f'{data_dir}/{person}/{sentence}/{nums}/image/{jpg}'\n",
    "                print(faces)\n",
    "                src = cv2.imread(faces, cv2.IMREAD_COLOR)\n",
    "                img_gray = cv2.cvtColor(src, cv2.COLOR_BGR2GRAY)\n",
    "                face_detector = detector(img_gray, 1)\n",
    "                for face in face_detector:\n",
    "                    landmarks = predictor(src, face)\n",
    "                    landmarks = shape_to_np(landmarks)\n",
    "                    # select center of mouth\n",
    "                    x_list = [x[0] for x in landmarks]\n",
    "                    y_list = [y[1] for y in landmarks]\n",
    "                    x = sum(x_list)//20\n",
    "                    y = sum(y_list)//20\n",
    "                dst = src[y-50:y+50, x-100:x+100].copy()\n",
    "                cv2.imshow(\"src\", src)\n",
    "                cv2.imshow(\"dst\", dst)\n",
    "                cv2.waitKey()\n",
    "                cv2.destroyAllWindows()"
   ]
  },
  {
   "cell_type": "code",
   "execution_count": null,
   "metadata": {},
   "outputs": [],
   "source": []
  }
 ],
 "metadata": {
  "kernelspec": {
   "display_name": "JolpJJang",
   "language": "python",
   "name": "jolpjjang"
  },
  "language_info": {
   "codemirror_mode": {
    "name": "ipython",
    "version": 3
   },
   "file_extension": ".py",
   "mimetype": "text/x-python",
   "name": "python",
   "nbconvert_exporter": "python",
   "pygments_lexer": "ipython3",
   "version": "3.8.8"
  }
 },
 "nbformat": 4,
 "nbformat_minor": 4
}
